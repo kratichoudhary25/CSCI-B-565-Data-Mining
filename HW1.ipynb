{
 "cells": [
  {
   "cell_type": "code",
   "execution_count": null,
   "id": "a7d430f4",
   "metadata": {},
   "outputs": [],
   "source": [
    "# For n = 3000\n",
    "import numpy as np\n",
    "import matplotlib.pyplot as plt\n",
    "f_m = []\n",
    "\n",
    "for m in range(1,101):\n",
    "    mat = np.random.uniform(0, 1, size=(3000,m))\n",
    "    euc_dist = []\n",
    "    for j in range(len(mat)-1):\n",
    "        for k in range(j+1,len(mat)):\n",
    "            euc_dist.append(np.linalg.norm(mat[j] - mat[k]))\n",
    "    d_min = min(euc_dist)\n",
    "    d_max = max(euc_dist)\n",
    "    d = (d_max-d_min)//d_min\n",
    "    f_m.append(np.log10(d))\n",
    "\n",
    "x = np.arange(1, 101)\n",
    "y = f_m\n",
    "\n",
    "plt.title(\"For n = 3000\")\n",
    "plt.xlabel(\"m\")\n",
    "plt.ylabel(\"f_m\")\n",
    "plt.plot(x, y, color =\"green\")\n",
    "plt.show()"
   ]
  },
  {
   "cell_type": "code",
   "execution_count": 3,
   "id": "1efc5194",
   "metadata": {},
   "outputs": [
    {
     "name": "stderr",
     "output_type": "stream",
     "text": [
      "/Library/Frameworks/Python.framework/Versions/3.7/lib/python3.7/site-packages/ipykernel_launcher.py:15: RuntimeWarning: divide by zero encountered in log10\n",
      "  from ipykernel import kernelapp as app\n"
     ]
    },
    {
     "data": {
      "image/png": "[encoded data removed]",
      "text/plain": [
       "<Figure size 432x288 with 1 Axes>"
      ]
     },
     "metadata": {
      "needs_background": "light"
     },
     "output_type": "display_data"
    }
   ],
   "source": [
    "# For n = 1000\n",
    "import numpy as np\n",
    "import matplotlib.pyplot as plt\n",
    "f_m = []\n",
    "\n",
    "for m in range(1,101):\n",
    "    mat = np.random.uniform(0, 1, size=(1000,m))\n",
    "    euc_dist = []\n",
    "    for j in range(len(mat)-1):\n",
    "        for k in range(j+1,len(mat)):\n",
    "            euc_dist.append(np.linalg.norm(mat[j] - mat[k]))\n",
    "    d_min = min(euc_dist)\n",
    "    d_max = max(euc_dist)\n",
    "    d = (d_max-d_min)//d_min\n",
    "    f_m.append(np.log10(d))\n",
    "\n",
    "x = np.arange(1, 101)\n",
    "y = f_m\n",
    "\n",
    "plt.title(\"For n = 1000\")\n",
    "plt.xlabel(\"m\")\n",
    "plt.ylabel(\"f_m\")\n",
    "plt.plot(x, y, color =\"blue\")\n",
    "plt.show()"
   ]
  },
  {
   "cell_type": "code",
   "execution_count": null,
   "id": "f11837c9",
   "metadata": {},
   "outputs": [],
   "source": [
    "# For n = 1500\n",
    "import numpy as np\n",
    "import matplotlib.pyplot as plt\n",
    "f_m = []\n",
    "\n",
    "for m in range(1,101):\n",
    "    mat = np.random.uniform(0, 1, size=(1500,m))\n",
    "    euc_dist = []\n",
    "    for j in range(len(mat)-1):\n",
    "        for k in range(j+1,len(mat)):\n",
    "            euc_dist.append(np.linalg.norm(mat[j] - mat[k]))\n",
    "    d_min = min(euc_dist)\n",
    "    d_max = max(euc_dist)\n",
    "    d = (d_max-d_min)//d_min\n",
    "    f_m.append(np.log10(d))\n",
    "\n",
    "x = np.arange(1, 101)\n",
    "y = f_m\n",
    "\n",
    "plt.title(\"For n = 1500\")\n",
    "plt.xlabel(\"m\")\n",
    "plt.ylabel(\"f_m\")\n",
    "plt.plot(x, y, color =\"red\")\n",
    "plt.show()"
   ]
  },
  {
   "cell_type": "code",
   "execution_count": 1,
   "id": "8c8372d8",
   "metadata": {},
   "outputs": [
    {
     "name": "stderr",
     "output_type": "stream",
     "text": [
      "/var/folders/4n/jdlmlz3172b2_7xcl0_55ns40000gn/T/ipykernel_7031/2047928960.py:15: RuntimeWarning: divide by zero encountered in log10\n",
      "  f_m.append(np.log10(d))\n"
     ]
    },
    {
     "data": {
      "image/png": "[encoded data removed]",
      "text/plain": [
       "<Figure size 432x288 with 1 Axes>"
      ]
     },
     "metadata": {
      "needs_background": "light"
     },
     "output_type": "display_data"
    }
   ],
   "source": [
    "# For n = 150\n",
    "import numpy as np\n",
    "import matplotlib.pyplot as plt\n",
    "f_m = []\n",
    "\n",
    "for m in range(1,101):\n",
    "    mat = np.random.uniform(0, 1, size=(150,m))\n",
    "    euc_dist = []\n",
    "    for j in range(len(mat)-1):\n",
    "        for k in range(j+1,len(mat)):\n",
    "            euc_dist.append(np.linalg.norm(mat[j] - mat[k]))\n",
    "    d_min = min(euc_dist)\n",
    "    d_max = max(euc_dist)\n",
    "    d = (d_max-d_min)//d_min\n",
    "    f_m.append(np.log10(d))\n",
    "\n",
    "x = np.arange(1, 101)\n",
    "y = f_m\n",
    "\n",
    "plt.title(\"For n = 150\")\n",
    "plt.xlabel(\"m\")\n",
    "plt.ylabel(\"f_m\")\n",
    "plt.plot(x, y, color =\"red\")\n",
    "plt.show()"
   ]
  },
  {
   "cell_type": "code",
   "execution_count": null,
   "id": "7d18d78a",
   "metadata": {},
   "outputs": [],
   "source": []
  }
 ],
 "metadata": {
  "kernelspec": {
   "display_name": "Python 3 (ipykernel)",
   "language": "python",
   "name": "python3"
  },
  "language_info": {
   "codemirror_mode": {
    "name": "ipython",
    "version": 3
   },
   "file_extension": ".py",
   "mimetype": "text/x-python",
   "name": "python",
   "nbconvert_exporter": "python",
   "pygments_lexer": "ipython3",
   "version": "3.9.7"
  }
 },
 "nbformat": 4,
 "nbformat_minor": 5
}
